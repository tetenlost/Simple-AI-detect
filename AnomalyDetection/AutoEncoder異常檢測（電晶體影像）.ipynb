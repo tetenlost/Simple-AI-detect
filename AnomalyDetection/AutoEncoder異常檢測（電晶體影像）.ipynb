{
  "cells": [
    {
      "cell_type": "markdown",
      "metadata": {
        "id": "AwXLIqIDQnoA"
      },
      "source": [
        "# 使用AE對電晶體進行異常檢測\n",
        "注意！本程式使用cpu進行執行"
      ]
    },
    {
      "cell_type": "markdown",
      "metadata": {
        "id": "FemTiA8FR8wS"
      },
      "source": [
        "## 下載資料集＆預訓練權重\n",
        "該電晶體影像取自於MVTec資料集\n",
        "\n",
        "原始資料集網址：https://www.kaggle.com/datasets/ipythonx/mvtec-ad?resource=download"
      ]
    },
    {
      "cell_type": "code",
      "execution_count": 34,
      "metadata": {
        "colab": {
          "base_uri": "https://localhost:8080/"
        },
        "id": "qIvkUEPySlnu",
        "outputId": "4953a857-992f-40ba-d4f5-44a73152e4f9"
      },
      "outputs": [
        {
          "output_type": "stream",
          "name": "stdout",
          "text": [
            "--2023-06-27 07:25:00--  https://docs.google.com/uc?export=download&confirm=t&id=1A5FVE_dOspyOFZfSqyNMiL63XeMV6V0F\n",
            "Resolving docs.google.com (docs.google.com)... 74.125.196.113, 74.125.196.139, 74.125.196.101, ...\n",
            "Connecting to docs.google.com (docs.google.com)|74.125.196.113|:443... connected.\n",
            "HTTP request sent, awaiting response... 303 See Other\n",
            "Location: https://doc-0o-ak-docs.googleusercontent.com/docs/securesc/ha0ro937gcuc7l7deffksulhg5h7mbp1/8a6eto8gcu7pb6evpi2kpacpm3oupjkr/1687850700000/03131947759355096649/*/1A5FVE_dOspyOFZfSqyNMiL63XeMV6V0F?e=download&uuid=403fb6b5-063f-4bee-bbdf-da79432c4df1 [following]\n",
            "Warning: wildcards not supported in HTTP.\n",
            "--2023-06-27 07:25:00--  https://doc-0o-ak-docs.googleusercontent.com/docs/securesc/ha0ro937gcuc7l7deffksulhg5h7mbp1/8a6eto8gcu7pb6evpi2kpacpm3oupjkr/1687850700000/03131947759355096649/*/1A5FVE_dOspyOFZfSqyNMiL63XeMV6V0F?e=download&uuid=403fb6b5-063f-4bee-bbdf-da79432c4df1\n",
            "Resolving doc-0o-ak-docs.googleusercontent.com (doc-0o-ak-docs.googleusercontent.com)... 172.217.203.132, 2607:f8b0:400c:c07::84\n",
            "Connecting to doc-0o-ak-docs.googleusercontent.com (doc-0o-ak-docs.googleusercontent.com)|172.217.203.132|:443... connected.\n",
            "HTTP request sent, awaiting response... 200 OK\n",
            "Length: 403476480 (385M) [application/zip]\n",
            "Saving to: ‘data.zip’\n",
            "\n",
            "data.zip            100%[===================>] 384.79M   104MB/s    in 3.7s    \n",
            "\n",
            "2023-06-27 07:25:04 (103 MB/s) - ‘data.zip’ saved [403476480/403476480]\n",
            "\n",
            "--2023-06-27 07:25:04--  https://docs.google.com/uc?export=download&confirm=t&id=1gKqpGCNivTiYO6qtPrsTO-J6iRPEHlnZ\n",
            "Resolving docs.google.com (docs.google.com)... 74.125.196.113, 74.125.196.139, 74.125.196.101, ...\n",
            "Connecting to docs.google.com (docs.google.com)|74.125.196.113|:443... connected.\n",
            "HTTP request sent, awaiting response... 303 See Other\n",
            "Location: https://doc-0c-ak-docs.googleusercontent.com/docs/securesc/ha0ro937gcuc7l7deffksulhg5h7mbp1/t4jopc9j1v51dbdu1b4jjh7g83je4dgt/1687850700000/03131947759355096649/*/1gKqpGCNivTiYO6qtPrsTO-J6iRPEHlnZ?e=download&uuid=668294ca-0983-49a8-a5c6-a8535e2f0687 [following]\n",
            "Warning: wildcards not supported in HTTP.\n",
            "--2023-06-27 07:25:04--  https://doc-0c-ak-docs.googleusercontent.com/docs/securesc/ha0ro937gcuc7l7deffksulhg5h7mbp1/t4jopc9j1v51dbdu1b4jjh7g83je4dgt/1687850700000/03131947759355096649/*/1gKqpGCNivTiYO6qtPrsTO-J6iRPEHlnZ?e=download&uuid=668294ca-0983-49a8-a5c6-a8535e2f0687\n",
            "Resolving doc-0c-ak-docs.googleusercontent.com (doc-0c-ak-docs.googleusercontent.com)... 172.217.203.132, 2607:f8b0:400c:c07::84\n",
            "Connecting to doc-0c-ak-docs.googleusercontent.com (doc-0c-ak-docs.googleusercontent.com)|172.217.203.132|:443... connected.\n",
            "HTTP request sent, awaiting response... 200 OK\n",
            "Length: 809518207 (772M) [application/x-zip]\n",
            "Saving to: ‘model.pth’\n",
            "\n",
            "model.pth           100%[===================>] 772.02M  26.1MB/s    in 9.4s    \n",
            "\n",
            "2023-06-27 07:25:14 (81.9 MB/s) - ‘model.pth’ saved [809518207/809518207]\n",
            "\n",
            "--2023-06-27 07:25:14--  https://docs.google.com/uc?export=download&confirm=&id=1sPig61E_1ScUjdPbjgh-M2NVQpRHzgWR\n",
            "Resolving docs.google.com (docs.google.com)... 74.125.196.113, 74.125.196.139, 74.125.196.101, ...\n",
            "Connecting to docs.google.com (docs.google.com)|74.125.196.113|:443... connected.\n",
            "HTTP request sent, awaiting response... 303 See Other\n",
            "Location: https://doc-0c-ak-docs.googleusercontent.com/docs/securesc/ha0ro937gcuc7l7deffksulhg5h7mbp1/o1ickadfqu66jlosg0b9bnl3ocsec1gn/1687850700000/03131947759355096649/*/1sPig61E_1ScUjdPbjgh-M2NVQpRHzgWR?e=download&uuid=485932f0-5970-4158-bf54-29cf27d90b46 [following]\n",
            "Warning: wildcards not supported in HTTP.\n",
            "--2023-06-27 07:25:15--  https://doc-0c-ak-docs.googleusercontent.com/docs/securesc/ha0ro937gcuc7l7deffksulhg5h7mbp1/o1ickadfqu66jlosg0b9bnl3ocsec1gn/1687850700000/03131947759355096649/*/1sPig61E_1ScUjdPbjgh-M2NVQpRHzgWR?e=download&uuid=485932f0-5970-4158-bf54-29cf27d90b46\n",
            "Resolving doc-0c-ak-docs.googleusercontent.com (doc-0c-ak-docs.googleusercontent.com)... 172.217.203.132, 2607:f8b0:400c:c07::84\n",
            "Connecting to doc-0c-ak-docs.googleusercontent.com (doc-0c-ak-docs.googleusercontent.com)|172.217.203.132|:443... connected.\n",
            "HTTP request sent, awaiting response... 200 OK\n",
            "Length: 329341 (322K) [application/x-zip]\n",
            "Saving to: ‘model_cnn.pth’\n",
            "\n",
            "model_cnn.pth       100%[===================>] 321.62K  --.-KB/s    in 0.003s  \n",
            "\n",
            "2023-06-27 07:25:15 (117 MB/s) - ‘model_cnn.pth’ saved [329341/329341]\n",
            "\n"
          ]
        }
      ],
      "source": [
        "!wget --load-cookies /tmp/cookies.txt \"https://docs.google.com/uc?export=download&confirm=$(wget --quiet --save-cookies /tmp/cookies.txt --keep-session-cookies --no-check-certificate 'https://docs.google.com/uc?export=download&id=1A5FVE_dOspyOFZfSqyNMiL63XeMV6V0F' -O- | sed -rn 's/.*confirm=([0-9A-Za-z_]+).*/\\1\\n/p')&id=1A5FVE_dOspyOFZfSqyNMiL63XeMV6V0F\" -O data.zip && rm -rf /tmp/cookies.txt\n",
        "!wget --load-cookies /tmp/cookies.txt \"https://docs.google.com/uc?export=download&confirm=$(wget --quiet --save-cookies /tmp/cookies.txt --keep-session-cookies --no-check-certificate 'https://docs.google.com/uc?export=download&id=1gKqpGCNivTiYO6qtPrsTO-J6iRPEHlnZ' -O- | sed -rn 's/.*confirm=([0-9A-Za-z_]+).*/\\1\\n/p')&id=1gKqpGCNivTiYO6qtPrsTO-J6iRPEHlnZ\" -O model.pth && rm -rf /tmp/cookies.txt\n",
        "!wget --load-cookies /tmp/cookies.txt \"https://docs.google.com/uc?export=download&confirm=$(wget --quiet --save-cookies /tmp/cookies.txt --keep-session-cookies --no-check-certificate 'https://docs.google.com/uc?export=download&id=1sPig61E_1ScUjdPbjgh-M2NVQpRHzgWR' -O- | sed -rn 's/.*confirm=([0-9A-Za-z_]+).*/\\1\\n/p')&id=1sPig61E_1ScUjdPbjgh-M2NVQpRHzgWR\" -O model_cnn.pth && rm -rf /tmp/cookies.txt"
      ]
    },
    {
      "cell_type": "code",
      "execution_count": null,
      "metadata": {
        "id": "ChwSgLB_lElO"
      },
      "outputs": [],
      "source": [
        "!tar xvf data.zip"
      ]
    },
    {
      "cell_type": "markdown",
      "metadata": {
        "id": "m0vgrPZgSl8g"
      },
      "source": [
        "## 宣告須使用的套件庫"
      ]
    },
    {
      "cell_type": "code",
      "execution_count": null,
      "metadata": {
        "id": "WiHa2pBZ9fzY"
      },
      "outputs": [],
      "source": [
        "import torch\n",
        "import torch.nn as nn\n",
        "import torchvision.transforms as transforms\n",
        "from torchvision.datasets import ImageFolder\n",
        "import numpy as np\n",
        "import math\n",
        "import cv2\n",
        "from google.colab.patches import cv2_imshow"
      ]
    },
    {
      "cell_type": "markdown",
      "metadata": {
        "id": "de4Icj48QY0L"
      },
      "source": [
        "## 定義AE(此範例中使用linear函數)"
      ]
    },
    {
      "cell_type": "code",
      "execution_count": null,
      "metadata": {
        "id": "RYUv1CggY9tS"
      },
      "outputs": [],
      "source": [
        "class Autoencoder(nn.Module):\n",
        "    def __init__(self, input_dim):\n",
        "        super(Autoencoder, self).__init__()\n",
        "\n",
        "        self.encoder = nn.Sequential(\n",
        "            nn.Linear(input_dim, 512),\n",
        "            nn.Linear(512, 512),\n",
        "            nn.Linear(512, 256),\n",
        "            nn.Linear(256, 128),\n",
        "            nn.ReLU()\n",
        "        )\n",
        "\n",
        "        self.decoder = nn.Sequential(\n",
        "            nn.Linear(128, 256),\n",
        "            nn.Linear(256, 512),\n",
        "            nn.Linear(512, 512),\n",
        "            nn.Linear(512, input_dim),\n",
        "            nn.Sigmoid()\n",
        "        )\n",
        "\n",
        "    def forward(self, x):\n",
        "        encoded = self.encoder(x)\n",
        "        decoded = self.decoder(encoded)\n",
        "        return decoded"
      ]
    },
    {
      "cell_type": "markdown",
      "source": [
        "## 補充： CNN版本\n"
      ],
      "metadata": {
        "id": "uNPoFZvqu9T1"
      }
    },
    {
      "cell_type": "code",
      "source": [
        "class Autoencoder(nn.Module):\n",
        "    def __init__(self, input_dim):\n",
        "        super(Autoencoder, self).__init__()\n",
        "\n",
        "        self.encoder = nn.Sequential(\n",
        "            nn.Conv2d(3, 8,3,padding='same'),\n",
        "            nn.ReLU(),\n",
        "            nn.MaxPool2d(2),\n",
        "            nn.Conv2d(8,32,3,padding='same'),\n",
        "            nn.ReLU(),\n",
        "            nn.MaxPool2d(2),\n",
        "            nn.Conv2d(32,32,3,padding='same'),\n",
        "            nn.ReLU(),\n",
        "            nn.MaxPool2d(2),\n",
        "            nn.Conv2d(32,32,3,padding='same'),\n",
        "            nn.ReLU(),\n",
        "            nn.MaxPool2d(2),\n",
        "            nn.Conv2d(32,64,3,padding='same'),\n",
        "            nn.ReLU(),\n",
        "        )\n",
        "\n",
        "        self.decoder = nn.Sequential(\n",
        "            nn.ConvTranspose2d(64,32,3,padding=1),\n",
        "            nn.ReLU(),\n",
        "            nn.Upsample(scale_factor=2,mode='bilinear'),\n",
        "            nn.ConvTranspose2d(32,32,3,padding=1),\n",
        "            nn.ReLU(),\n",
        "            nn.Upsample(scale_factor=2,mode='bilinear'),\n",
        "            nn.ConvTranspose2d(32,32,3,padding=1),\n",
        "            nn.ReLU(),\n",
        "            nn.Upsample(scale_factor=2,mode='bilinear'),\n",
        "            nn.ConvTranspose2d(32,8,3,padding=1),\n",
        "            nn.ReLU(),\n",
        "            nn.Upsample(scale_factor=2,mode='bilinear'),\n",
        "            nn.ConvTranspose2d(8,3,3,padding=1),\n",
        "            nn.Sigmoid()\n",
        "        )\n",
        "\n",
        "    def forward(self, x):\n",
        "        encoded = self.encoder(x)\n",
        "        decoded = self.decoder(encoded)\n",
        "        return decoded"
      ],
      "metadata": {
        "id": "XKIAjnpGvnN3"
      },
      "execution_count": null,
      "outputs": []
    },
    {
      "cell_type": "markdown",
      "metadata": {
        "id": "9RZ5LlhKQkcP"
      },
      "source": [
        "## 製作訓練與測試資料集"
      ]
    },
    {
      "cell_type": "code",
      "execution_count": 36,
      "metadata": {
        "id": "avW2ooJxY-uE"
      },
      "outputs": [],
      "source": [
        "# 設置資料路徑\n",
        "data_path = './data/transistor/'\n",
        "\n",
        "# 定義預處理轉換\n",
        "transform = transforms.Compose([\n",
        "    transforms.Resize((256, 256)),   # 調整圖像大小\n",
        "    transforms.ToTensor()          # 轉換為張量\n",
        "])\n",
        "\n",
        "# 加載訓練集\n",
        "train_dataset = ImageFolder(root=data_path+'/train', transform=transform)\n",
        "\n",
        "# 加載測試集\n",
        "test_dataset = ImageFolder(root=data_path+'/test', transform=transform)\n",
        "\n",
        "# 創建訓練集和測試集的數據加載器\n",
        "train_loader = torch.utils.data.DataLoader(train_dataset, batch_size=64, shuffle=True)\n",
        "test_loader = torch.utils.data.DataLoader(test_dataset, batch_size=1, shuffle=False)\n"
      ]
    },
    {
      "cell_type": "markdown",
      "metadata": {
        "id": "aPZgnNRVQqIh"
      },
      "source": [
        "## 定義訓練參數\n",
        "**如果有要進行訓練，最下面的train請設定為1,否則為0**\n",
        "\n",
        "為加快demo，此範例使用預先訓練的模型進行"
      ]
    },
    {
      "cell_type": "code",
      "execution_count": 51,
      "metadata": {
        "id": "Dh5XfcgKZGnH"
      },
      "outputs": [],
      "source": [
        "# 定義模型超參數\n",
        "input_dim = 256 * 256 * 3   # 輸入維度 (64x64x3)\n",
        "\n",
        "# 創建自編碼器模型\n",
        "model = Autoencoder(input_dim)\n",
        "\n",
        "# 定義損失函數和優化器\n",
        "criterion = nn.MSELoss()\n",
        "optimizer = torch.optim.Adam(model.parameters(), lr=0.0005)\n",
        "# 定義訓練步數\n",
        "num_epochs = 500\n",
        "# 是否進行訓練或是使用預訓練權重進行預測\n",
        "train = False\n",
        "cnn = False"
      ]
    },
    {
      "cell_type": "code",
      "execution_count": 52,
      "metadata": {
        "id": "_MSOvJZNZO_q"
      },
      "outputs": [],
      "source": [
        "if train:\n",
        "\n",
        "    for epoch in range(num_epochs):\n",
        "        for data in train_loader:\n",
        "            images, _ = data\n",
        "            if not cnn:\n",
        "                images = images.view(images.size(0), -1)\n",
        "\n",
        "            # 正向傳播\n",
        "            outputs = model(images)\n",
        "            loss = criterion(outputs, images)\n",
        "\n",
        "            # 反向傳播和優化\n",
        "            optimizer.zero_grad()\n",
        "            loss.backward()\n",
        "            optimizer.step()\n",
        "\n",
        "        # 每個epoch打印訓練損失\n",
        "        print(f'Epoch [{epoch+1}/{num_epochs}], Loss: {loss.item():.4f}')\n",
        "    torch.save(model,\"./model.pth\")\n",
        "#-------------------------------\n",
        "else:\n",
        "    if cnn:\n",
        "        model = torch.load(\"./model_cnn.pth\")\n",
        "    else:\n",
        "        model = torch.load(\"./model.pth\")"
      ]
    },
    {
      "cell_type": "code",
      "execution_count": 55,
      "metadata": {
        "colab": {
          "base_uri": "https://localhost:8080/"
        },
        "id": "jYVI1GPjZYw2",
        "outputId": "2f152ec5-784f-4920-9f46-6b9cc58db314"
      },
      "outputs": [
        {
          "output_type": "stream",
          "name": "stdout",
          "text": [
            "成功判定為正常數： 43\n",
            "成功判定為異常數： 28\n",
            "異常漏判數： 12\n",
            "正常過殺數： 17\n"
          ]
        }
      ],
      "source": [
        "#定義：正常為正樣本，異常為負樣本\n",
        "#宣告判定正確（TP,TN）、異常誤判(FP)、正常過殺(FN)計數器\n",
        "TP,TN,FP,FN = 0,0,0,0\n",
        "#定義異常閥值\n",
        "if not cnn:\n",
        "    th = 0.0024\n",
        "else:\n",
        "    th = 0.0013\n",
        "#不計算梯度\n",
        "with torch.no_grad():\n",
        "\n",
        "    for i, (images, label) in enumerate(test_loader):\n",
        "        if not cnn:\n",
        "            images = images.view(images.size(0), -1)\n",
        "        outputs = model(images)\n",
        "        loss = criterion(outputs, images)\n",
        "        #輸出結果轉換成圖像\n",
        "        if not cnn:\n",
        "            images = images.view(1,3,256,256)\n",
        "            outputs = outputs.view(1,3,256,256)\n",
        "        images = np.transpose(images[0].numpy(), (1, 2, 0))\n",
        "        outputs = np.transpose(outputs[0].numpy(), (1, 2, 0))\n",
        "        images = cv2.cvtColor(np.asarray(images*255,dtype=np.uint8), cv2.COLOR_RGB2GRAY)\n",
        "        outputs = cv2.cvtColor(np.asarray(outputs*255,dtype=np.uint8), cv2.COLOR_RGB2GRAY)\n",
        "        #計算輸入與輸出的差異並製作成熱圖\n",
        "        diff = cv2.absdiff(images,outputs)\n",
        "        diff = cv2.applyColorMap(diff, cv2.COLORMAP_JET)\n",
        "        cv2_imshow(cv2.resize(images,(400,400)))\n",
        "        cv2_imshow(cv2.resize(outputs,(400,400)))\n",
        "        cv2_imshow(cv2.resize(diff,(400,400)))\n",
        "        #根據loss閥值判定正常/異常\n",
        "        if loss>th:\n",
        "            if label == 4:\n",
        "                FN+=1\n",
        "            else:\n",
        "                TN+=1\n",
        "        else:\n",
        "            if label == 4:\n",
        "                TP+=1\n",
        "            else:\n",
        "                FP+=1\n",
        "\n",
        "    print(\"成功判定為正常數：\",TP)\n",
        "    print(\"成功判定為異常數：\",TN)\n",
        "    print(\"異常漏判數：\",FP)\n",
        "    print(\"正常過殺數：\",FN)\n"
      ]
    }
  ],
  "metadata": {
    "colab": {
      "provenance": []
    },
    "kernelspec": {
      "display_name": "Python 3",
      "name": "python3"
    },
    "language_info": {
      "name": "python"
    }
  },
  "nbformat": 4,
  "nbformat_minor": 0
}
