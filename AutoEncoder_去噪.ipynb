{
  "nbformat": 4,
  "nbformat_minor": 0,
  "metadata": {
    "colab": {
      "provenance": []
    },
    "kernelspec": {
      "name": "python3",
      "display_name": "Python 3"
    },
    "language_info": {
      "name": "python"
    }
  },
  "cells": [
    {
      "cell_type": "markdown",
      "source": [
        "# AutoEncoder-去噪"
      ],
      "metadata": {
        "id": "UR2Bm8RxRq26"
      }
    },
    {
      "cell_type": "markdown",
      "source": [
        "## 宣告套件庫"
      ],
      "metadata": {
        "id": "jpvDvKveRwKM"
      }
    },
    {
      "cell_type": "code",
      "source": [
        "import torch\n",
        "import torch.nn as nn\n",
        "import torchvision\n",
        "import torchvision.transforms as transforms"
      ],
      "metadata": {
        "id": "nJZtm7DfQJp5"
      },
      "execution_count": 1,
      "outputs": []
    },
    {
      "cell_type": "markdown",
      "source": [
        "## 定義Autoencoder模型"
      ],
      "metadata": {
        "id": "DzPo6fZTR2sn"
      }
    },
    {
      "cell_type": "code",
      "source": [
        "# 定義Autoencoder模型\n",
        "class Autoencoder(nn.Module):\n",
        "    def __init__(self):\n",
        "        super(Autoencoder, self).__init__()\n",
        "        self.encoder = nn.Sequential(\n",
        "            nn.Linear(28*28, 128),\n",
        "            nn.ReLU(True),\n",
        "            nn.Linear(128, 64),\n",
        "            nn.ReLU(True),\n",
        "            nn.Linear(64, 12))\n",
        "\n",
        "        self.decoder = nn.Sequential(\n",
        "            nn.Linear(12, 64),\n",
        "            nn.ReLU(True),\n",
        "            nn.Linear(64, 128),\n",
        "            nn.ReLU(True),\n",
        "            nn.Linear(128, 28*28),\n",
        "            nn.Tanh())\n",
        "\n",
        "    def forward(self, x):\n",
        "        x = self.encoder(x)\n",
        "        x = self.decoder(x)\n",
        "        return x"
      ],
      "metadata": {
        "id": "OnJw1eaNQNvE"
      },
      "execution_count": 2,
      "outputs": []
    },
    {
      "cell_type": "markdown",
      "source": [
        "## 訓練參數設定"
      ],
      "metadata": {
        "id": "RQ161EjxR6qS"
      }
    },
    {
      "cell_type": "code",
      "source": [
        "# 超參數設定\n",
        "num_epochs = 10\n",
        "batch_size = 128\n",
        "learning_rate = 0.001\n",
        "\n",
        "# MNIST手寫數字數據集的預處理\n",
        "transform = transforms.Compose(\n",
        "    [transforms.ToTensor(),\n",
        "     transforms.Normalize((0.5,), (0.5,))])\n",
        "\n",
        "# 下載MNIST數據集並加載訓練集和測試集\n",
        "train_dataset = torchvision.datasets.MNIST(root='./data', train=True, transform=transform, download=True)\n",
        "test_dataset = torchvision.datasets.MNIST(root='./data', train=False, transform=transform)\n",
        "train_loader = torch.utils.data.DataLoader(dataset=train_dataset, batch_size=batch_size, shuffle=True)\n",
        "test_loader = torch.utils.data.DataLoader(dataset=test_dataset, batch_size=batch_size, shuffle=False)\n",
        "\n",
        "\n",
        "\n",
        "# 初始化模型和損失函數\n",
        "model = Autoencoder()\n",
        "criterion = nn.MSELoss()\n",
        "optimizer = torch.optim.Adam(model.parameters(), lr=learning_rate)\n"
      ],
      "metadata": {
        "colab": {
          "base_uri": "https://localhost:8080/"
        },
        "id": "7HDYkkuNQadb",
        "outputId": "d92bd277-cc40-4ea6-c758-e4e3c21a82e6"
      },
      "execution_count": 3,
      "outputs": [
        {
          "output_type": "stream",
          "name": "stdout",
          "text": [
            "Downloading http://yann.lecun.com/exdb/mnist/train-images-idx3-ubyte.gz\n",
            "Downloading http://yann.lecun.com/exdb/mnist/train-images-idx3-ubyte.gz to ./data/MNIST/raw/train-images-idx3-ubyte.gz\n"
          ]
        },
        {
          "output_type": "stream",
          "name": "stderr",
          "text": [
            "100%|██████████| 9912422/9912422 [00:00<00:00, 95657491.63it/s]\n"
          ]
        },
        {
          "output_type": "stream",
          "name": "stdout",
          "text": [
            "Extracting ./data/MNIST/raw/train-images-idx3-ubyte.gz to ./data/MNIST/raw\n",
            "\n",
            "Downloading http://yann.lecun.com/exdb/mnist/train-labels-idx1-ubyte.gz\n",
            "Downloading http://yann.lecun.com/exdb/mnist/train-labels-idx1-ubyte.gz to ./data/MNIST/raw/train-labels-idx1-ubyte.gz\n"
          ]
        },
        {
          "output_type": "stream",
          "name": "stderr",
          "text": [
            "100%|██████████| 28881/28881 [00:00<00:00, 32519649.35it/s]"
          ]
        },
        {
          "output_type": "stream",
          "name": "stdout",
          "text": [
            "Extracting ./data/MNIST/raw/train-labels-idx1-ubyte.gz to ./data/MNIST/raw\n",
            "\n",
            "Downloading http://yann.lecun.com/exdb/mnist/t10k-images-idx3-ubyte.gz\n",
            "Downloading http://yann.lecun.com/exdb/mnist/t10k-images-idx3-ubyte.gz to ./data/MNIST/raw/t10k-images-idx3-ubyte.gz\n"
          ]
        },
        {
          "output_type": "stream",
          "name": "stderr",
          "text": [
            "\n",
            "100%|██████████| 1648877/1648877 [00:00<00:00, 25268237.72it/s]\n"
          ]
        },
        {
          "output_type": "stream",
          "name": "stdout",
          "text": [
            "Extracting ./data/MNIST/raw/t10k-images-idx3-ubyte.gz to ./data/MNIST/raw\n",
            "\n",
            "Downloading http://yann.lecun.com/exdb/mnist/t10k-labels-idx1-ubyte.gz\n",
            "Downloading http://yann.lecun.com/exdb/mnist/t10k-labels-idx1-ubyte.gz to ./data/MNIST/raw/t10k-labels-idx1-ubyte.gz\n"
          ]
        },
        {
          "output_type": "stream",
          "name": "stderr",
          "text": [
            "100%|██████████| 4542/4542 [00:00<00:00, 13895352.86it/s]\n"
          ]
        },
        {
          "output_type": "stream",
          "name": "stdout",
          "text": [
            "Extracting ./data/MNIST/raw/t10k-labels-idx1-ubyte.gz to ./data/MNIST/raw\n",
            "\n"
          ]
        }
      ]
    },
    {
      "cell_type": "markdown",
      "source": [
        "## 訓練模型\n"
      ],
      "metadata": {
        "id": "mJyTcJ5lR9wK"
      }
    },
    {
      "cell_type": "code",
      "execution_count": 4,
      "metadata": {
        "colab": {
          "base_uri": "https://localhost:8080/"
        },
        "id": "3o7nI072kzKw",
        "outputId": "c12077be-b92d-4488-e383-98d455765c7e"
      },
      "outputs": [
        {
          "output_type": "stream",
          "name": "stdout",
          "text": [
            "Epoch [1/10], Step [100/469], Loss: 0.2190\n",
            "Epoch [1/10], Step [200/469], Loss: 0.1597\n",
            "Epoch [1/10], Step [300/469], Loss: 0.1473\n",
            "Epoch [1/10], Step [400/469], Loss: 0.1292\n",
            "Epoch [2/10], Step [100/469], Loss: 0.1077\n",
            "Epoch [2/10], Step [200/469], Loss: 0.1166\n",
            "Epoch [2/10], Step [300/469], Loss: 0.1073\n",
            "Epoch [2/10], Step [400/469], Loss: 0.0997\n",
            "Epoch [3/10], Step [100/469], Loss: 0.1049\n",
            "Epoch [3/10], Step [200/469], Loss: 0.1026\n",
            "Epoch [3/10], Step [300/469], Loss: 0.0864\n",
            "Epoch [3/10], Step [400/469], Loss: 0.0925\n",
            "Epoch [4/10], Step [100/469], Loss: 0.0871\n",
            "Epoch [4/10], Step [200/469], Loss: 0.0913\n",
            "Epoch [4/10], Step [300/469], Loss: 0.0852\n",
            "Epoch [4/10], Step [400/469], Loss: 0.0909\n",
            "Epoch [5/10], Step [100/469], Loss: 0.0855\n",
            "Epoch [5/10], Step [200/469], Loss: 0.0871\n",
            "Epoch [5/10], Step [300/469], Loss: 0.0807\n",
            "Epoch [5/10], Step [400/469], Loss: 0.0827\n",
            "Epoch [6/10], Step [100/469], Loss: 0.0847\n",
            "Epoch [6/10], Step [200/469], Loss: 0.0759\n",
            "Epoch [6/10], Step [300/469], Loss: 0.0743\n",
            "Epoch [6/10], Step [400/469], Loss: 0.0838\n",
            "Epoch [7/10], Step [100/469], Loss: 0.0778\n",
            "Epoch [7/10], Step [200/469], Loss: 0.0763\n",
            "Epoch [7/10], Step [300/469], Loss: 0.0842\n",
            "Epoch [7/10], Step [400/469], Loss: 0.0761\n",
            "Epoch [8/10], Step [100/469], Loss: 0.0819\n",
            "Epoch [8/10], Step [200/469], Loss: 0.0815\n",
            "Epoch [8/10], Step [300/469], Loss: 0.0818\n",
            "Epoch [8/10], Step [400/469], Loss: 0.0716\n",
            "Epoch [9/10], Step [100/469], Loss: 0.0807\n",
            "Epoch [9/10], Step [200/469], Loss: 0.0762\n",
            "Epoch [9/10], Step [300/469], Loss: 0.0711\n",
            "Epoch [9/10], Step [400/469], Loss: 0.0765\n",
            "Epoch [10/10], Step [100/469], Loss: 0.0709\n",
            "Epoch [10/10], Step [200/469], Loss: 0.0729\n",
            "Epoch [10/10], Step [300/469], Loss: 0.0705\n",
            "Epoch [10/10], Step [400/469], Loss: 0.0802\n"
          ]
        }
      ],
      "source": [
        "# 訓練模型\n",
        "total_step = len(train_loader)\n",
        "for epoch in range(num_epochs):\n",
        "    for i, (images, _) in enumerate(train_loader):\n",
        "        # 將圖像展平成一維張量\n",
        "        images = images.reshape(-1, 28*28)\n",
        "\n",
        "        # 添加噪聲\n",
        "        noisy_images = images + torch.randn(images.size()) * 0.5\n",
        "\n",
        "        # 前向傳播和反向傳播\n",
        "        outputs = model(noisy_images)\n",
        "        loss = criterion(outputs, images)\n",
        "        optimizer.zero_grad()\n",
        "        loss.backward()\n",
        "        optimizer.step()\n",
        "\n",
        "        # 每100個批次打印一次訓練結果\n",
        "        if (i+1) % 100 == 0:\n",
        "            print('Epoch [{}/{}], Step [{}/{}], Loss: {:.4f}'\n",
        "                  .format(epoch+1, num_epochs, i+1, total_step, loss.item()))\n",
        "\n",
        "\n",
        "\n",
        "\n",
        "\n"
      ]
    },
    {
      "cell_type": "markdown",
      "source": [
        "## 測試模型"
      ],
      "metadata": {
        "id": "BV7omuCHSEq-"
      }
    },
    {
      "cell_type": "code",
      "source": [
        "# 測試模型\n",
        "from google.colab.patches import cv2_imshow\n",
        "import numpy as np\n",
        "with torch.no_grad():\n",
        "    for i,(images, _) in enumerate(test_loader):\n",
        "        images = images.reshape(-1, 28*28)\n",
        "        noisy_images = images + torch.randn(images.size()) * 0.5\n",
        "        \n",
        "        outputs = model(noisy_images)\n",
        "\n",
        "        outputs=outputs.view(outputs.size(0), 1, 28, 28)\n",
        "        images=images.view(images.size(0), 1, 28, 28)\n",
        "        noisy_images=noisy_images.view(noisy_images.size(0), 1, 28, 28)\n",
        "        print('------')\n",
        "        print('原始影像')\n",
        "        cv2_imshow(np.array(images[0][0])*255)\n",
        "        print('噪音影像')\n",
        "        cv2_imshow(np.array(noisy_images[0][0])*255)\n",
        "        print('去噪影象')\n",
        "        cv2_imshow(np.array(outputs[0][0])*255)\n",
        "        if i>5:\n",
        "\n",
        "            break"
      ],
      "metadata": {
        "colab": {
          "base_uri": "https://localhost:8080/",
          "height": 1000
        },
        "id": "f3GU73R5mCI6",
        "outputId": "b05d7bf8-abbf-4456-d4d0-d4f13355f398"
      },
      "execution_count": 5,
      "outputs": [
        {
          "output_type": "stream",
          "name": "stdout",
          "text": [
            "------\n",
            "原始影像\n"
          ]
        },
        {
          "output_type": "display_data",
          "data": {
            "text/plain": [
              "<PIL.Image.Image image mode=L size=28x28 at 0x7F1A8205B970>"
            ],
            "image/png": "[encoded data removed]"
          },
          "metadata": {}
        },
        {
          "output_type": "stream",
          "name": "stdout",
          "text": [
            "噪音影像\n"
          ]
        },
        {
          "output_type": "display_data",
          "data": {
            "text/plain": [
              "<PIL.Image.Image image mode=L size=28x28 at 0x7F1A8205B970>"
            ],
            "image/png": "[encoded data removed]"
          },
          "metadata": {}
        },
        {
          "output_type": "stream",
          "name": "stdout",
          "text": [
            "去噪影象\n"
          ]
        },
        {
          "output_type": "display_data",
          "data": {
            "text/plain": [
              "<PIL.Image.Image image mode=L size=28x28 at 0x7F1A8205B970>"
            ],
            "image/png": "[encoded data removed]"
          },
          "metadata": {}
        },
        {
          "output_type": "stream",
          "name": "stdout",
          "text": [
            "------\n",
            "原始影像\n"
          ]
        },
        {
          "output_type": "display_data",
          "data": {
            "text/plain": [
              "<PIL.Image.Image image mode=L size=28x28 at 0x7F1A8205B970>"
            ],
            "image/png": "[encoded data removed]"
          },
          "metadata": {}
        },
        {
          "output_type": "stream",
          "name": "stdout",
          "text": [
            "噪音影像\n"
          ]
        },
        {
          "output_type": "display_data",
          "data": {
            "text/plain": [
              "<PIL.Image.Image image mode=L size=28x28 at 0x7F1A8205B970>"
            ],
            "image/png": "[encoded data removed]"
          },
          "metadata": {}
        },
        {
          "output_type": "stream",
          "name": "stdout",
          "text": [
            "去噪影象\n"
          ]
        },
        {
          "output_type": "display_data",
          "data": {
            "text/plain": [
              "<PIL.Image.Image image mode=L size=28x28 at 0x7F1A8205B970>"
            ],
            "image/png": "[encoded data removed]"
          },
          "metadata": {}
        },
        {
          "output_type": "stream",
          "name": "stdout",
          "text": [
            "------\n",
            "原始影像\n"
          ]
        },
        {
          "output_type": "display_data",
          "data": {
            "text/plain": [
              "<PIL.Image.Image image mode=L size=28x28 at 0x7F1A8208DE70>"
            ],
            "image/png": "[encoded data removed]"
          },
          "metadata": {}
        },
        {
          "output_type": "stream",
          "name": "stdout",
          "text": [
            "噪音影像\n"
          ]
        },
        {
          "output_type": "display_data",
          "data": {
            "text/plain": [
              "<PIL.Image.Image image mode=L size=28x28 at 0x7F1B44499F90>"
            ],
            "image/png": "[encoded data removed]"
          },
          "metadata": {}
        },
        {
          "output_type": "stream",
          "name": "stdout",
          "text": [
            "去噪影象\n"
          ]
        },
        {
          "output_type": "display_data",
          "data": {
            "text/plain": [
              "<PIL.Image.Image image mode=L size=28x28 at 0x7F1A8205B970>"
            ],
            "image/png": "[encoded data removed]"
          },
          "metadata": {}
        },
        {
          "output_type": "stream",
          "name": "stdout",
          "text": [
            "------\n",
            "原始影像\n"
          ]
        },
        {
          "output_type": "display_data",
          "data": {
            "text/plain": [
              "<PIL.Image.Image image mode=L size=28x28 at 0x7F1A840E7D90>"
            ],
            "image/png": "[encoded data removed]"
          },
          "metadata": {}
        },
        {
          "output_type": "stream",
          "name": "stdout",
          "text": [
            "噪音影像\n"
          ]
        },
        {
          "output_type": "display_data",
          "data": {
            "text/plain": [
              "<PIL.Image.Image image mode=L size=28x28 at 0x7F1A8208E2F0>"
            ],
            "image/png": "[encoded data removed]"
          },
          "metadata": {}
        },
        {
          "output_type": "stream",
          "name": "stdout",
          "text": [
            "去噪影象\n"
          ]
        },
        {
          "output_type": "display_data",
          "data": {
            "text/plain": [
              "<PIL.Image.Image image mode=L size=28x28 at 0x7F1A8208E200>"
            ],
            "image/png": "[encoded data removed]"
          },
          "metadata": {}
        },
        {
          "output_type": "stream",
          "name": "stdout",
          "text": [
            "------\n",
            "原始影像\n"
          ]
        },
        {
          "output_type": "display_data",
          "data": {
            "text/plain": [
              "<PIL.Image.Image image mode=L size=28x28 at 0x7F1A8205B970>"
            ],
            "image/png": "[encoded data removed]"
          },
          "metadata": {}
        },
        {
          "output_type": "stream",
          "name": "stdout",
          "text": [
            "噪音影像\n"
          ]
        },
        {
          "output_type": "display_data",
          "data": {
            "text/plain": [
              "<PIL.Image.Image image mode=L size=28x28 at 0x7F1A8205B970>"
            ],
            "image/png": "[encoded data removed]"
          },
          "metadata": {}
        },
        {
          "output_type": "stream",
          "name": "stdout",
          "text": [
            "去噪影象\n"
          ]
        },
        {
          "output_type": "display_data",
          "data": {
            "text/plain": [
              "<PIL.Image.Image image mode=L size=28x28 at 0x7F1A8204D6C0>"
            ],
            "image/png": "[encoded data removed]"
          },
          "metadata": {}
        },
        {
          "output_type": "stream",
          "name": "stdout",
          "text": [
            "------\n",
            "原始影像\n"
          ]
        },
        {
          "output_type": "display_data",
          "data": {
            "text/plain": [
              "<PIL.Image.Image image mode=L size=28x28 at 0x7F1A8208E530>"
            ],
            "image/png": "[encoded data removed]"
          },
          "metadata": {}
        },
        {
          "output_type": "stream",
          "name": "stdout",
          "text": [
            "噪音影像\n"
          ]
        },
        {
          "output_type": "display_data",
          "data": {
            "text/plain": [
              "<PIL.Image.Image image mode=L size=28x28 at 0x7F1A8206AA40>"
            ],
            "image/png": "[encoded data removed]"
          },
          "metadata": {}
        },
        {
          "output_type": "stream",
          "name": "stdout",
          "text": [
            "去噪影象\n"
          ]
        },
        {
          "output_type": "display_data",
          "data": {
            "text/plain": [
              "<PIL.Image.Image image mode=L size=28x28 at 0x7F1A8206AA40>"
            ],
            "image/png": "[encoded data removed]"
          },
          "metadata": {}
        },
        {
          "output_type": "stream",
          "name": "stdout",
          "text": [
            "------\n",
            "原始影像\n"
          ]
        },
        {
          "output_type": "display_data",
          "data": {
            "text/plain": [
              "<PIL.Image.Image image mode=L size=28x28 at 0x7F1A8208E5C0>"
            ],
            "image/png": "[encoded data removed]"
          },
          "metadata": {}
        },
        {
          "output_type": "stream",
          "name": "stdout",
          "text": [
            "噪音影像\n"
          ]
        },
        {
          "output_type": "display_data",
          "data": {
            "text/plain": [
              "<PIL.Image.Image image mode=L size=28x28 at 0x7F1A8208E620>"
            ],
            "image/png": "[encoded data removed]"
          },
          "metadata": {}
        },
        {
          "output_type": "stream",
          "name": "stdout",
          "text": [
            "去噪影象\n"
          ]
        },
        {
          "output_type": "display_data",
          "data": {
            "text/plain": [
              "<PIL.Image.Image image mode=L size=28x28 at 0x7F1A8208E410>"
            ],
            "image/png": "[encoded data removed]"
          },
          "metadata": {}
        }
      ]
    }
  ]
}