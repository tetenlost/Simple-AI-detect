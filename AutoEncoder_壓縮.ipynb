{
  "nbformat": 4,
  "nbformat_minor": 0,
  "metadata": {
    "colab": {
      "provenance": []
    },
    "kernelspec": {
      "name": "python3",
      "display_name": "Python 3"
    },
    "language_info": {
      "name": "python"
    }
  },
  "cells": [
    {
      "cell_type": "markdown",
      "source": [
        "# AutoEncoder-影像壓縮"
      ],
      "metadata": {
        "id": "SMY4Op9GPAL0"
      }
    },
    {
      "cell_type": "markdown",
      "source": [
        "## 宣告使用套件庫"
      ],
      "metadata": {
        "id": "nJOf-7CnPGm-"
      }
    },
    {
      "cell_type": "code",
      "source": [
        "import torch\n",
        "import torch.nn as nn\n",
        "import torch.optim as optim\n",
        "from torch.utils.data import DataLoader\n",
        "from torchvision.datasets import MNIST\n",
        "from torchvision.transforms import ToTensor\n",
        "from torchvision.utils import save_image\n",
        "from google.colab.patches import cv2_imshow\n",
        "import numpy as np"
      ],
      "metadata": {
        "id": "G9k7AqMa_fhT"
      },
      "execution_count": 2,
      "outputs": []
    },
    {
      "cell_type": "markdown",
      "source": [
        "## 定義模型"
      ],
      "metadata": {
        "id": "GuMVAgWoPNa2"
      }
    },
    {
      "cell_type": "code",
      "execution_count": 3,
      "metadata": {
        "id": "QagdKZBwdbSi"
      },
      "outputs": [],
      "source": [
        "# 定義Autoencoder模型\n",
        "class Autoencoder(nn.Module):\n",
        "    def __init__(self):\n",
        "        super(Autoencoder, self).__init__()\n",
        "        self.encoder = nn.Sequential(\n",
        "            nn.Linear(28 * 28, 128),  # 輸入大小為28x28，維度壓縮至128\n",
        "            nn.ReLU(True),\n",
        "            nn.Linear(128, 64),  # 進一步壓縮維度至64\n",
        "            \n",
        "            nn.ReLU(True),\n",
        "            nn.Linear(64, 10),  # 進一步壓縮維度至64\n",
        "            nn.ReLU(True)\n",
        "        )\n",
        "        self.decoder = nn.Sequential(\n",
        "            nn.Linear(10, 64),\n",
        "            nn.ReLU(True),\n",
        "            nn.Linear(64, 128),\n",
        "            nn.ReLU(True),\n",
        "            nn.Linear(128, 28 * 28),\n",
        "            nn.Sigmoid()  # 通過Sigmoid函數將輸出壓縮至[0, 1]區間內\n",
        "        )\n",
        "\n",
        "    def forward(self, x):\n",
        "        x = self.encoder(x)\n",
        "        x = self.decoder(x)\n",
        "        return x\n",
        "\n",
        "\n",
        "\n"
      ]
    },
    {
      "cell_type": "markdown",
      "source": [
        "## 定義訓練參數"
      ],
      "metadata": {
        "id": "UimOCa41PRU2"
      }
    },
    {
      "cell_type": "code",
      "source": [
        "# 設定訓練參數\n",
        "batch_size = 128\n",
        "learning_rate = 1e-3\n",
        "num_epochs = 20\n",
        "# 加載MNIST數據集\n",
        "train_dataset = MNIST(root='./data', train=True, transform=ToTensor(), download=True)\n",
        "train_loader = DataLoader(train_dataset, batch_size=batch_size, shuffle=True)\n",
        "\n",
        "# 初始化模型、損失函數和優化器\n",
        "model = Autoencoder()\n",
        "criterion = nn.MSELoss()\n",
        "optimizer = optim.Adam(model.parameters(), lr=learning_rate)"
      ],
      "metadata": {
        "colab": {
          "base_uri": "https://localhost:8080/"
        },
        "id": "GBYwVmqz_j7_",
        "outputId": "3fae09fb-c279-4a6a-983e-1f0a30a15abe"
      },
      "execution_count": 4,
      "outputs": [
        {
          "output_type": "stream",
          "name": "stdout",
          "text": [
            "Downloading http://yann.lecun.com/exdb/mnist/train-images-idx3-ubyte.gz\n",
            "Downloading http://yann.lecun.com/exdb/mnist/train-images-idx3-ubyte.gz to ./data/MNIST/raw/train-images-idx3-ubyte.gz\n"
          ]
        },
        {
          "output_type": "stream",
          "name": "stderr",
          "text": [
            "100%|██████████| 9912422/9912422 [00:00<00:00, 105333365.20it/s]\n"
          ]
        },
        {
          "output_type": "stream",
          "name": "stdout",
          "text": [
            "Extracting ./data/MNIST/raw/train-images-idx3-ubyte.gz to ./data/MNIST/raw\n",
            "\n",
            "Downloading http://yann.lecun.com/exdb/mnist/train-labels-idx1-ubyte.gz\n",
            "Downloading http://yann.lecun.com/exdb/mnist/train-labels-idx1-ubyte.gz to ./data/MNIST/raw/train-labels-idx1-ubyte.gz\n"
          ]
        },
        {
          "output_type": "stream",
          "name": "stderr",
          "text": [
            "100%|██████████| 28881/28881 [00:00<00:00, 33178771.25it/s]"
          ]
        },
        {
          "output_type": "stream",
          "name": "stdout",
          "text": [
            "Extracting ./data/MNIST/raw/train-labels-idx1-ubyte.gz to ./data/MNIST/raw\n",
            "\n",
            "Downloading http://yann.lecun.com/exdb/mnist/t10k-images-idx3-ubyte.gz\n",
            "Downloading http://yann.lecun.com/exdb/mnist/t10k-images-idx3-ubyte.gz to ./data/MNIST/raw/t10k-images-idx3-ubyte.gz\n"
          ]
        },
        {
          "output_type": "stream",
          "name": "stderr",
          "text": [
            "\n",
            "100%|██████████| 1648877/1648877 [00:00<00:00, 28978493.72it/s]\n"
          ]
        },
        {
          "output_type": "stream",
          "name": "stdout",
          "text": [
            "Extracting ./data/MNIST/raw/t10k-images-idx3-ubyte.gz to ./data/MNIST/raw\n",
            "\n",
            "Downloading http://yann.lecun.com/exdb/mnist/t10k-labels-idx1-ubyte.gz\n",
            "Downloading http://yann.lecun.com/exdb/mnist/t10k-labels-idx1-ubyte.gz to ./data/MNIST/raw/t10k-labels-idx1-ubyte.gz\n"
          ]
        },
        {
          "output_type": "stream",
          "name": "stderr",
          "text": [
            "100%|██████████| 4542/4542 [00:00<00:00, 12541493.59it/s]\n"
          ]
        },
        {
          "output_type": "stream",
          "name": "stdout",
          "text": [
            "Extracting ./data/MNIST/raw/t10k-labels-idx1-ubyte.gz to ./data/MNIST/raw\n",
            "\n"
          ]
        }
      ]
    },
    {
      "cell_type": "markdown",
      "source": [
        "## 開始訓練\n"
      ],
      "metadata": {
        "id": "hJsBAdL1PXaI"
      }
    },
    {
      "cell_type": "code",
      "source": [
        "# 訓練模型\n",
        "for epoch in range(num_epochs):\n",
        "    for data in train_loader:\n",
        "        img, _ = data\n",
        "        img = img.view(img.size(0), -1)  # 將圖像展平成一維向量\n",
        "\n",
        "        # 前向傳播\n",
        "        output = model(img)\n",
        "        loss = criterion(output, img)\n",
        "\n",
        "        # 反向傳播和優化\n",
        "        optimizer.zero_grad()\n",
        "        loss.backward()\n",
        "        optimizer.step()\n",
        "\n",
        "    # 每個epoch打印訓練過程\n",
        "    print('Epoch [{}/{}], Loss: {:.4f}'.format(epoch+1, num_epochs, loss.item()))"
      ],
      "metadata": {
        "colab": {
          "base_uri": "https://localhost:8080/"
        },
        "id": "RxkDrRU3_oSL",
        "outputId": "f12d017e-4bf8-445a-dc55-924ce4e39253"
      },
      "execution_count": 5,
      "outputs": [
        {
          "output_type": "stream",
          "name": "stdout",
          "text": [
            "Epoch [1/20], Loss: 0.0447\n",
            "Epoch [2/20], Loss: 0.0347\n",
            "Epoch [3/20], Loss: 0.0327\n",
            "Epoch [4/20], Loss: 0.0302\n",
            "Epoch [5/20], Loss: 0.0284\n",
            "Epoch [6/20], Loss: 0.0276\n",
            "Epoch [7/20], Loss: 0.0262\n",
            "Epoch [8/20], Loss: 0.0273\n",
            "Epoch [9/20], Loss: 0.0300\n",
            "Epoch [10/20], Loss: 0.0263\n",
            "Epoch [11/20], Loss: 0.0249\n",
            "Epoch [12/20], Loss: 0.0267\n",
            "Epoch [13/20], Loss: 0.0246\n",
            "Epoch [14/20], Loss: 0.0246\n",
            "Epoch [15/20], Loss: 0.0269\n",
            "Epoch [16/20], Loss: 0.0229\n",
            "Epoch [17/20], Loss: 0.0260\n",
            "Epoch [18/20], Loss: 0.0239\n",
            "Epoch [19/20], Loss: 0.0240\n",
            "Epoch [20/20], Loss: 0.0234\n"
          ]
        }
      ]
    },
    {
      "cell_type": "markdown",
      "source": [
        "## 測試模型"
      ],
      "metadata": {
        "id": "brLZmg8ePcFQ"
      }
    },
    {
      "cell_type": "code",
      "source": [
        "# 使用測試數據評估模\n",
        "\n",
        "test_dataset = MNIST(root='./data', train=False, transform=ToTensor())\n",
        "test_loader = DataLoader(test_dataset, batch_size=1,shuffle=False)\n",
        "\n",
        "with torch.no_grad():\n",
        "    for i,data in enumerate(test_loader):\n",
        "        img, _ = data\n",
        "        img = img.view(img.size(0), -1)\n",
        "        output = model(img)\n",
        "        print(model.encoder(img))\n",
        "        o_img = img.view(img.size(0), 1, 28, 28)\n",
        "        r_img = output.view(output.size(0), 1, 28, 28)\n",
        "        # 儲存壓縮和重構的圖像\n",
        "        save_image(o_img, './original.png')\n",
        "        cv2_imshow(np.array(o_img[0][0])*255)\n",
        "        save_image(r_img, './reconstructed.png')\n",
        "        cv2_imshow(np.array(r_img[0][0])*255)\n",
        "        if i>10:\n",
        "            break\n",
        "        #break  # 只顯示第一個批次的圖像"
      ],
      "metadata": {
        "colab": {
          "base_uri": "https://localhost:8080/",
          "height": 1000
        },
        "id": "mNrAM_WQe1aW",
        "outputId": "a251df46-f4ba-4c4f-9cfb-2fab905eb27e"
      },
      "execution_count": 6,
      "outputs": [
        {
          "output_type": "stream",
          "name": "stdout",
          "text": [
            "tensor([[ 0.0000,  0.0000, 24.4712, 16.7393,  0.0000, 11.4510, 10.0222, 13.2285,\n",
            "          2.1319,  0.0000]])\n"
          ]
        },
        {
          "output_type": "display_data",
          "data": {
            "text/plain": [
              "<PIL.Image.Image image mode=L size=28x28 at 0x7F711EB15AE0>"
            ],
            "image/png": "[encoded data removed]"
          },
          "metadata": {}
        },
        {
          "output_type": "display_data",
          "data": {
            "text/plain": [
              "<PIL.Image.Image image mode=L size=28x28 at 0x7F711EB15AE0>"
            ],
            "image/png": "[encoded data removed]"
          },
          "metadata": {}
        },
        {
          "output_type": "stream",
          "name": "stdout",
          "text": [
            "tensor([[ 0.0000,  0.0000,  0.2608, 19.8776,  0.0000,  7.2978,  9.7529, 17.2677,\n",
            "         10.2778,  0.0000]])\n"
          ]
        },
        {
          "output_type": "display_data",
          "data": {
            "text/plain": [
              "<PIL.Image.Image image mode=L size=28x28 at 0x7F711EB15AE0>"
            ],
            "image/png": "[encoded data removed]"
          },
          "metadata": {}
        },
        {
          "output_type": "display_data",
          "data": {
            "text/plain": [
              "<PIL.Image.Image image mode=L size=28x28 at 0x7F711EB15AE0>"
            ],
            "image/png": "[encoded data removed]"
          },
          "metadata": {}
        },
        {
          "output_type": "stream",
          "name": "stdout",
          "text": [
            "tensor([[ 0.0000,  0.0000, 13.8230, 20.9168,  0.0000, 14.4198,  0.6441,  8.2988,\n",
            "          8.7360,  0.0000]])\n"
          ]
        },
        {
          "output_type": "display_data",
          "data": {
            "text/plain": [
              "<PIL.Image.Image image mode=L size=28x28 at 0x7F711EB17460>"
            ],
            "image/png": "[encoded data removed]"
          },
          "metadata": {}
        },
        {
          "output_type": "display_data",
          "data": {
            "text/plain": [
              "<PIL.Image.Image image mode=L size=28x28 at 0x7F711EB17460>"
            ],
            "image/png": "[encoded data removed]"
          },
          "metadata": {}
        },
        {
          "output_type": "stream",
          "name": "stdout",
          "text": [
            "tensor([[ 0.0000,  0.0000, 17.8135, 14.8048,  0.0000, 10.6588, 23.7675, 18.5612,\n",
            "         18.0799,  0.0000]])\n"
          ]
        },
        {
          "output_type": "display_data",
          "data": {
            "text/plain": [
              "<PIL.Image.Image image mode=L size=28x28 at 0x7F711EB17460>"
            ],
            "image/png": "[encoded data removed]"
          },
          "metadata": {}
        },
        {
          "output_type": "display_data",
          "data": {
            "text/plain": [
              "<PIL.Image.Image image mode=L size=28x28 at 0x7F711EB17460>"
            ],
            "image/png": "[encoded data removed]"
          },
          "metadata": {}
        },
        {
          "output_type": "stream",
          "name": "stdout",
          "text": [
            "tensor([[ 0.0000,  0.0000, 15.6280, 11.9699,  0.0000,  7.6073, 14.6297,  8.1734,\n",
            "          6.6508,  0.0000]])\n"
          ]
        },
        {
          "output_type": "display_data",
          "data": {
            "text/plain": [
              "<PIL.Image.Image image mode=L size=28x28 at 0x7F711EB17460>"
            ],
            "image/png": "[encoded data removed]"
          },
          "metadata": {}
        },
        {
          "output_type": "display_data",
          "data": {
            "text/plain": [
              "<PIL.Image.Image image mode=L size=28x28 at 0x7F711EB17460>"
            ],
            "image/png": "[encoded data removed]"
          },
          "metadata": {}
        },
        {
          "output_type": "stream",
          "name": "stdout",
          "text": [
            "tensor([[ 0.0000,  0.0000, 18.7904, 25.7034,  0.0000, 17.6833,  2.4888, 11.5310,\n",
            "         11.7465,  0.0000]])\n"
          ]
        },
        {
          "output_type": "display_data",
          "data": {
            "text/plain": [
              "<PIL.Image.Image image mode=L size=28x28 at 0x7F711EB17460>"
            ],
            "image/png": "[encoded data removed]"
          },
          "metadata": {}
        },
        {
          "output_type": "display_data",
          "data": {
            "text/plain": [
              "<PIL.Image.Image image mode=L size=28x28 at 0x7F711EB17460>"
            ],
            "image/png": "[encoded data removed]"
          },
          "metadata": {}
        },
        {
          "output_type": "stream",
          "name": "stdout",
          "text": [
            "tensor([[ 0.0000,  0.0000, 19.9526, 19.5525,  0.0000, 10.5414, 13.9313, 11.0079,\n",
            "          6.2740,  0.0000]])\n"
          ]
        },
        {
          "output_type": "display_data",
          "data": {
            "text/plain": [
              "<PIL.Image.Image image mode=L size=28x28 at 0x7F711EB17460>"
            ],
            "image/png": "[encoded data removed]"
          },
          "metadata": {}
        },
        {
          "output_type": "display_data",
          "data": {
            "text/plain": [
              "<PIL.Image.Image image mode=L size=28x28 at 0x7F711EB17460>"
            ],
            "image/png": "[encoded data removed]"
          },
          "metadata": {}
        },
        {
          "output_type": "stream",
          "name": "stdout",
          "text": [
            "tensor([[ 0.0000,  0.0000,  9.4408, 14.9779,  0.0000, 10.1896, 14.3082,  1.3421,\n",
            "          7.6320,  0.0000]])\n"
          ]
        },
        {
          "output_type": "display_data",
          "data": {
            "text/plain": [
              "<PIL.Image.Image image mode=L size=28x28 at 0x7F711EB17460>"
            ],
            "image/png": "[encoded data removed]"
          },
          "metadata": {}
        },
        {
          "output_type": "display_data",
          "data": {
            "text/plain": [
              "<PIL.Image.Image image mode=L size=28x28 at 0x7F711EB17460>"
            ],
            "image/png": "[encoded data removed]"
          },
          "metadata": {}
        },
        {
          "output_type": "stream",
          "name": "stdout",
          "text": [
            "tensor([[ 0.0000,  0.0000, 19.7019, 12.1266,  0.0000,  9.5066, 15.5414, 13.3785,\n",
            "          9.4633,  0.0000]])\n"
          ]
        },
        {
          "output_type": "display_data",
          "data": {
            "text/plain": [
              "<PIL.Image.Image image mode=L size=28x28 at 0x7F711EB17460>"
            ],
            "image/png": "[encoded data removed]"
          },
          "metadata": {}
        },
        {
          "output_type": "display_data",
          "data": {
            "text/plain": [
              "<PIL.Image.Image image mode=L size=28x28 at 0x7F711EB17460>"
            ],
            "image/png": "[encoded data removed]"
          },
          "metadata": {}
        },
        {
          "output_type": "stream",
          "name": "stdout",
          "text": [
            "tensor([[ 0.0000,  0.0000, 38.2711, 25.7138,  0.0000, 15.5194, 14.7493, 22.0407,\n",
            "          9.8501,  0.0000]])\n"
          ]
        },
        {
          "output_type": "display_data",
          "data": {
            "text/plain": [
              "<PIL.Image.Image image mode=L size=28x28 at 0x7F711EB17460>"
            ],
            "image/png": "[encoded data removed]"
          },
          "metadata": {}
        },
        {
          "output_type": "display_data",
          "data": {
            "text/plain": [
              "<PIL.Image.Image image mode=L size=28x28 at 0x7F711EB17460>"
            ],
            "image/png": "[encoded data removed]"
          },
          "metadata": {}
        },
        {
          "output_type": "stream",
          "name": "stdout",
          "text": [
            "tensor([[ 0.0000,  0.0000, 11.1411,  7.7323,  0.0000,  7.0183, 17.6344, 16.1892,\n",
            "          8.6347,  0.0000]])\n"
          ]
        },
        {
          "output_type": "display_data",
          "data": {
            "text/plain": [
              "<PIL.Image.Image image mode=L size=28x28 at 0x7F711EB17460>"
            ],
            "image/png": "[encoded data removed]"
          },
          "metadata": {}
        },
        {
          "output_type": "display_data",
          "data": {
            "text/plain": [
              "<PIL.Image.Image image mode=L size=28x28 at 0x7F711EB17460>"
            ],
            "image/png": "[encoded data removed]"
          },
          "metadata": {}
        },
        {
          "output_type": "stream",
          "name": "stdout",
          "text": [
            "tensor([[ 0.0000,  0.0000,  6.6014, 11.2236,  0.0000,  3.7586, 13.8223, 10.3781,\n",
            "          8.8555,  0.0000]])\n"
          ]
        },
        {
          "output_type": "display_data",
          "data": {
            "text/plain": [
              "<PIL.Image.Image image mode=L size=28x28 at 0x7F711EB17460>"
            ],
            "image/png": "[encoded data removed]"
          },
          "metadata": {}
        },
        {
          "output_type": "display_data",
          "data": {
            "text/plain": [
              "<PIL.Image.Image image mode=L size=28x28 at 0x7F711EB17460>"
            ],
            "image/png": "[encoded data removed]"
          },
          "metadata": {}
        }
      ]
    },
    {
      "cell_type": "markdown",
      "source": [
        "## 單獨使用解碼器將特徵向量反解為圖像"
      ],
      "metadata": {
        "id": "MIsnD9gFPixg"
      }
    },
    {
      "cell_type": "code",
      "source": [
        "import numpy  as np\n",
        "from google.colab.patches import cv2_imshow\n",
        "# 宣告測試向量\n",
        "tensor_test = torch.Tensor([[ 0.0000,  0.0000, 24.4712, 16.7393,  0.0000, 11.4510, 10.0222, 13.2285,\n",
        "          2.1319,  0.0000]])\n",
        "with torch.no_grad():\n",
        "    # 將向量進行解碼\n",
        "    output = model.decoder(tensor_test)\n",
        "cv2_imshow(np.array(output.view(output.size(0), 1, 28, 28)[0][0])*255)"
      ],
      "metadata": {
        "colab": {
          "base_uri": "https://localhost:8080/",
          "height": 45
        },
        "id": "ZpCYg8JqfH9i",
        "outputId": "82e9c4cc-1a61-4d24-a7b4-bda387ef84f3"
      },
      "execution_count": 8,
      "outputs": [
        {
          "output_type": "display_data",
          "data": {
            "text/plain": [
              "<PIL.Image.Image image mode=L size=28x28 at 0x7F711EC85780>"
            ],
            "image/png": "[encoded data removed]"
          },
          "metadata": {}
        }
      ]
    }
  ]
}