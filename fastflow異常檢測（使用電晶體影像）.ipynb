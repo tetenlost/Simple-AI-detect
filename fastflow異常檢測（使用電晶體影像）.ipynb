{
  "cells": [
    {
      "cell_type": "markdown",
      "metadata": {
        "id": "_7BgLjKolLtF"
      },
      "source": [
        "# 使用fastflow架構進行異常檢測\n",
        "\n"
      ]
    },
    {
      "cell_type": "markdown",
      "metadata": {
        "id": "VOBjIEYPledt"
      },
      "source": [
        "## 下載程式碼&訓練資料與demo權重"
      ]
    },
    {
      "cell_type": "code",
      "execution_count": null,
      "metadata": {
        "id": "ZH1y3pdiqaP9"
      },
      "outputs": [],
      "source": [
        "!git clone https://github.com/gathierry/FastFlow.git\n",
        "%cd FastFlow/\n",
        "!pip3 install timm pyyaml pytorch-ignite 'FrEIA @ git+https://github.com/VLL-HD/FrEIA@1779d1fba1e21000fda1927b59eeac0a6fcaa284'\n",
        "!wget --load-cookies /tmp/cookies.txt \"https://docs.google.com/uc?export=download&confirm=$(wget --quiet --save-cookies /tmp/cookies.txt --keep-session-cookies --no-check-certificate 'https://docs.google.com/uc?export=download&id=1A5FVE_dOspyOFZfSqyNMiL63XeMV6V0F' -O- | sed -rn 's/.*confirm=([0-9A-Za-z_]+).*/\\1\\n/p')&id=1A5FVE_dOspyOFZfSqyNMiL63XeMV6V0F\" -O data.zip && rm -rf /tmp/cookies.txt\n",
        "!wget --load-cookies /tmp/cookies.txt \"https://docs.google.com/uc?export=download&confirm=$(wget --quiet --save-cookies /tmp/cookies.txt --keep-session-cookies --no-check-certificate 'https://docs.google.com/uc?export=download&id=1IElkg-76ieMlXX3Jyzx7BH_lekv480Tw' -O- | sed -rn 's/.*confirm=([0-9A-Za-z_]+).*/\\1\\n/p')&id=1IElkg-76ieMlXX3Jyzx7BH_lekv480Tw\" -O demo.pt && rm -rf /tmp/cookies.txt\n",
        "!tar xvf data.zip"
      ]
    },
    {
      "cell_type": "markdown",
      "metadata": {
        "id": "Kq5yNmpXUaR-"
      },
      "source": [
        "* 因為套件版本關係，需要對原程式進行些許改動才可以執行\n",
        "1.  請先點擊左側資料夾，並找到FastFlow內的main.py\n",
        "2.  打開它，並找到第99行，進行以下替換  \n",
        "Before: targets = targets.flatten()  \n",
        "After: targets = targets.flatten().type(torch.int32)  \n",
        "3.  按下'ctrl+s'存檔\n"
      ]
    },
    {
      "cell_type": "markdown",
      "metadata": {
        "id": "kdYaJp11lmjQ"
      },
      "source": [
        "## 模型訓練(若使用demo權重，則不需執行此程式)"
      ]
    },
    {
      "cell_type": "code",
      "execution_count": null,
      "metadata": {
        "id": "mQ-RRZKguyMp"
      },
      "outputs": [],
      "source": [
        "!python main.py -cfg configs/resnet18.yaml --data ./data -cat transistor"
      ]
    },
    {
      "cell_type": "markdown",
      "metadata": {
        "id": "sfoZkFYUmIfY"
      },
      "source": [
        "準確度測試  \n",
        "-ckpt 後面請接上demo.pt 或是你自己訓練的權重"
      ]
    },
    {
      "cell_type": "code",
      "execution_count": null,
      "metadata": {
        "id": "1R5VaJ_E5bot"
      },
      "outputs": [],
      "source": [
        "!python main.py -cfg configs/resnet18.yaml --data ./data -cat transistor --eval -ckpt /content/FastFlow/demo.pt"
      ]
    },
    {
      "cell_type": "markdown",
      "metadata": {
        "id": "vZVBGbm8l7qg"
      },
      "source": [
        "## 模型推論&並顯示熱圖"
      ]
    },
    {
      "cell_type": "markdown",
      "source": [
        "宣告要使用的套件庫\n"
      ],
      "metadata": {
        "id": "0f48sVSmrLW-"
      }
    },
    {
      "cell_type": "code",
      "execution_count": 9,
      "metadata": {
        "id": "xBfHoIdRJW5o"
      },
      "outputs": [],
      "source": [
        "import argparse\n",
        "import os\n",
        "import cv2\n",
        "import torch\n",
        "import torchvision.transforms as transforms\n",
        "from torchvision.datasets import ImageFolder\n",
        "import yaml\n",
        "from ignite.contrib import metrics\n",
        "import numpy as np\n",
        "import constants as const\n",
        "import dataset\n",
        "import fastflow\n",
        "import utils"
      ]
    },
    {
      "cell_type": "markdown",
      "metadata": {
        "id": "4kp0Lm_PGyKE"
      },
      "source": [
        "製作熱圖"
      ]
    },
    {
      "cell_type": "code",
      "execution_count": 10,
      "metadata": {
        "id": "_NqM9AjFDPpL"
      },
      "outputs": [],
      "source": [
        "def create_heatmap(data):\n",
        "    # 轉換數據為浮點型並歸一化到 [0, 1]\n",
        "    normalized_data = (data - np.min(data)) / 2\n",
        "\n",
        "    # 設置熱度圖顏色映射（從藍色到紅色）\n",
        "    colormap = cv2.COLORMAP_JET\n",
        "\n",
        "    # 將數據映射到熱度圖\n",
        "    heatmap = cv2.applyColorMap(np.uint8(255 * normalized_data), colormap)\n",
        "    return heatmap"
      ]
    },
    {
      "cell_type": "markdown",
      "metadata": {
        "id": "adg3YgkLHPBu"
      },
      "source": [
        "加載測試集"
      ]
    },
    {
      "cell_type": "code",
      "execution_count": 11,
      "metadata": {
        "id": "oYsh4EvcHFJD"
      },
      "outputs": [],
      "source": [
        "# 設置資料路徑\n",
        "data_path = './data/transistor/'\n",
        "\n",
        "# 定義預處理轉換\n",
        "transform = transforms.Compose([\n",
        "    transforms.Resize((256, 256)),   # 調整圖像大小\n",
        "    transforms.ToTensor(),# 轉換為張量\n",
        "    transforms.Normalize([0.485, 0.456, 0.406], [0.229, 0.224, 0.225]),\n",
        "])\n",
        "# 加載測試集\n",
        "test_dataset = ImageFolder(root=data_path+'/test', transform=transform)\n",
        "\n",
        "# 創建訓練集和測試集的數據加載器\n",
        "test_loader = torch.utils.data.DataLoader(test_dataset, batch_size=1, shuffle=False)"
      ]
    },
    {
      "cell_type": "markdown",
      "source": [
        "建立fastflow模型\n"
      ],
      "metadata": {
        "id": "4glJNC6zrRsF"
      }
    },
    {
      "cell_type": "code",
      "source": [
        "def build_model():\n",
        "    model = fastflow.FastFlow(\n",
        "        backbone_name='resnet18',\n",
        "        flow_steps=8,\n",
        "        input_size=256,\n",
        "        conv3x3_only=1,\n",
        "        hidden_ratio=1.0,\n",
        "    )\n",
        "    print(\n",
        "        \"Model A.D. Param#: {}\".format(\n",
        "            sum(p.numel() for p in model.parameters() if p.requires_grad)\n",
        "        )\n",
        "    )\n",
        "    return model"
      ],
      "metadata": {
        "id": "fjUvfRPhqCRN"
      },
      "execution_count": 13,
      "outputs": []
    },
    {
      "cell_type": "markdown",
      "metadata": {
        "id": "PX7HIhPSqvW_"
      },
      "source": [
        "載入fastflow模型權重"
      ]
    },
    {
      "cell_type": "code",
      "execution_count": null,
      "metadata": {
        "id": "r_nto1K0JJ1g"
      },
      "outputs": [],
      "source": [
        "checkpoint= '/content/FastFlow/demo.pt'\n",
        "model = build_model()\n",
        "checkpoint = torch.load(checkpoint)\n",
        "model.load_state_dict(checkpoint[\"model_state_dict\"])\n",
        "model.cuda()"
      ]
    },
    {
      "cell_type": "markdown",
      "metadata": {
        "id": "P0Uoav4Vq8Tv"
      },
      "source": [
        "使用測試集進行測試，並製作熱圖"
      ]
    },
    {
      "cell_type": "code",
      "execution_count": null,
      "metadata": {
        "id": "uaAoNCK5S94c"
      },
      "outputs": [],
      "source": [
        "from google.colab.patches import cv2_imshow\n",
        "mean = [0.485, 0.456, 0.406]\n",
        "std = [0.229, 0.224, 0.225]\n",
        "model.eval()\n",
        "for data, targets in test_loader:\n",
        "    data, targets = data.cuda(), targets.cuda()\n",
        "    with torch.no_grad():\n",
        "        ret = model(data)\n",
        "    outputs = ret[\"anomaly_map\"].cpu().detach()\n",
        "    images = np.transpose(data[0].cpu().numpy(), (1, 2, 0))*std+mean\n",
        "    images = cv2.cvtColor(np.array(images*255,dtype=np.uint8), cv2.COLOR_RGB2BGR)\n",
        "    outputs = np.transpose(outputs[0].numpy(), (1, 2, 0))\n",
        "    heatmap = create_heatmap(outputs)\n",
        "    print(np.max(outputs))\n",
        "    img = np.array(images*0.8+heatmap*0.2)\n",
        "    cv2_imshow(cv2.resize(np.array(img,dtype=np.uint8),(400,400)))\n"
      ]
    }
  ],
  "metadata": {
    "accelerator": "GPU",
    "colab": {
      "provenance": []
    },
    "kernelspec": {
      "display_name": "Python 3",
      "name": "python3"
    },
    "language_info": {
      "name": "python"
    }
  },
  "nbformat": 4,
  "nbformat_minor": 0
}